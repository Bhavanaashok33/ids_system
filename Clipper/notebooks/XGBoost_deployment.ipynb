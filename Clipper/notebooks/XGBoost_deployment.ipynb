{
 "cells": [
  {
   "cell_type": "code",
   "execution_count": null,
   "metadata": {},
   "outputs": [],
   "source": [
    "import logging, xgboost as xgb, numpy as np\n",
    "from clipper_admin import ClipperConnection, DockerContainerManager\n",
    "clipper_conn = ClipperConnection(DockerContainerManager())"
   ]
  },
  {
   "cell_type": "code",
   "execution_count": null,
   "metadata": {},
   "outputs": [],
   "source": [
    "try:\n",
    "    clipper_conn.start_clipper()\n",
    "except:\n",
    "    print(\"Clipper already running\")\n",
    "    clipper_conn.connect()"
   ]
  },
  {
   "cell_type": "code",
   "execution_count": null,
   "metadata": {},
   "outputs": [],
   "source": [
    "# We will register it to deploy an xgboost model.\n",
    "clipper_conn.register_application('xgboost-test', 'integers', 'default_pred', 100000)\n"
   ]
  },
  {
   "cell_type": "code",
   "execution_count": null,
   "metadata": {},
   "outputs": [],
   "source": [
    "def get_test_point():\n",
    "    return [np.random.randint(255) for _ in range(784)]\n"
   ]
  },
  {
   "cell_type": "code",
   "execution_count": null,
   "metadata": {},
   "outputs": [],
   "source": [
    "# Create a training matrix.\n",
    "dtrain = xgb.DMatrix(get_test_point(), label=[0])\n",
    "# We then create parameters, watchlist, and specify the number of rounds\n",
    "# This is code that we use to build our XGBoost Model, and your code may differ.\n",
    "param = {'max_depth': 2, 'eta': 1, 'silent': 1, 'objective': 'binary:logistic'}\n",
    "watchlist = [(dtrain, 'train')]\n",
    "num_round = 2\n",
    "bst = xgb.train(param, dtrain, num_round, watchlist)\n"
   ]
  },
  {
   "cell_type": "code",
   "execution_count": null,
   "metadata": {},
   "outputs": [],
   "source": [
    "def predict(xs):\n",
    "    return bst.predict(xgb.DMatrix(xs))\n"
   ]
  },
  {
   "cell_type": "code",
   "execution_count": null,
   "metadata": {},
   "outputs": [],
   "source": [
    "from clipper_admin.deployers import python as python_deployer\n",
    "# We specify which packages to install in the pkgs_to_install arg.\n",
    "# For example, if we wanted to install xgboost and psycopg2, we would use\n",
    "# pkgs_to_install = ['xgboost', 'psycopg2']\n",
    "python_deployer.deploy_python_closure(clipper_conn, name='xgboost-model', version=1,\n",
    "     input_type=\"integers\", func=predict, pkgs_to_install=['xgboost'])\n"
   ]
  },
  {
   "cell_type": "code",
   "execution_count": null,
   "metadata": {},
   "outputs": [],
   "source": [
    "clipper_conn.link_model_to_app('xgboost-test', 'xgboost-model')\n"
   ]
  },
  {
   "cell_type": "code",
   "execution_count": null,
   "metadata": {},
   "outputs": [],
   "source": [
    "import requests, json\n",
    "# Get Address\n",
    "addr = clipper_conn.get_query_addr()\n",
    "# Post Query\n",
    "response = requests.post(\n",
    "     \"http://%s/%s/predict\" % (addr, 'xgboost-test'),\n",
    "     headers={\"Content-type\": \"application/json\"},\n",
    "     data=json.dumps({\n",
    "         'input': get_test_point()\n",
    "     }))\n",
    "result = response.json()\n",
    "if response.status_code == requests.codes.ok and result[\"default\"]:\n",
    "    print('A default prediction was returned.')\n",
    "elif response.status_code != requests.codes.ok:\n",
    "    print(result)\n",
    "    raise BenchmarkException(response.text)\n",
    "else:\n",
    "    print('Prediction Returned:', result)\n"
   ]
  },
  {
   "cell_type": "code",
   "execution_count": null,
   "metadata": {},
   "outputs": [],
   "source": [
    "clipper_conn.stop_all()"
   ]
  },
  {
   "cell_type": "code",
   "execution_count": null,
   "metadata": {},
   "outputs": [],
   "source": []
  }
 ],
 "metadata": {
  "kernelspec": {
   "display_name": "Python 3",
   "language": "python",
   "name": "python3"
  },
  "language_info": {
   "codemirror_mode": {
    "name": "ipython",
    "version": 3
   },
   "file_extension": ".py",
   "mimetype": "text/x-python",
   "name": "python",
   "nbconvert_exporter": "python",
   "pygments_lexer": "ipython3",
   "version": "3.5.5"
  }
 },
 "nbformat": 4,
 "nbformat_minor": 2
}
