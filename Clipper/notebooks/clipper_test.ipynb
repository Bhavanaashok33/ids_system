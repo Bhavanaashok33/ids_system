{
 "cells": [
  {
   "cell_type": "code",
   "execution_count": null,
   "metadata": {},
   "outputs": [],
   "source": [
    "%matplotlib inline\n",
    "import matplotlib\n",
    "import matplotlib.pyplot as plt \n",
    "import itertools\n",
    "import numpy as np\n",
    "\n",
    "from sklearn import svm, datasets\n",
    "from sklearn.model_selection import train_test_split\n",
    "from sklearn.metrics import confusion_matrix\n",
    "\n",
    "# import some data to play with\n",
    "iris = datasets.load_iris()\n",
    "X = iris.data\n",
    "y = iris.target\n",
    "class_names = iris.target_names\n",
    "\n",
    "# Split the data into a training set and a test set\n",
    "X_train, X_test, y_train, y_test = train_test_split(X, y, random_state=0)\n",
    "\n",
    "# Run classifier, using a model that is too regularized (C too low) to see\n",
    "# the impact on the results\n",
    "classifier = svm.SVC(kernel='linear', C=0.1)\n",
    "y_pred = classifier.fit(X_train, y_train).predict(X_test)\n",
    "\n",
    "\n",
    "def plot_confusion_matrix(cm, classes,\n",
    "                          normalize=False,\n",
    "                          title='Confusion matrix',\n",
    "                          cmap=plt.cm.Blues):\n",
    "    \"\"\"\n",
    "    This function prints and plots the confusion matrix.\n",
    "    Normalization can be applied by setting `normalize=True`.\n",
    "    \"\"\"\n",
    "    if normalize:\n",
    "        cm = cm.astype('float') / cm.sum(axis=1)[:, np.newaxis]\n",
    "        print(\"Normalized confusion matrix\")\n",
    "    else:\n",
    "        print('Confusion matrix, without normalization')\n",
    "\n",
    "    print(cm)\n",
    "\n",
    "    plt.imshow(cm, interpolation='nearest', cmap=cmap)\n",
    "    plt.title(title)\n",
    "    plt.colorbar()\n",
    "    tick_marks = np.arange(len(classes))\n",
    "    plt.xticks(tick_marks, classes, rotation=45)\n",
    "    plt.yticks(tick_marks, classes)\n",
    "\n",
    "    fmt = '.2f' if normalize else 'd'\n",
    "    thresh = cm.max() / 2.\n",
    "    for i, j in itertools.product(range(cm.shape[0]), range(cm.shape[1])):\n",
    "        plt.text(j, i, format(cm[i, j], fmt),\n",
    "                 horizontalalignment=\"center\",\n",
    "                 color=\"white\" if cm[i, j] > thresh else \"black\")\n",
    "\n",
    "    plt.tight_layout()\n",
    "    plt.ylabel('True label')\n",
    "    plt.xlabel('Predicted label')\n",
    "\n",
    "# Compute confusion matrix\n",
    "cnf_matrix = confusion_matrix(y_test, y_pred)\n",
    "np.set_printoptions(precision=2)\n",
    "\n",
    "# Plot non-normalized confusion matrix\n",
    "plt.figure()\n",
    "plot_confusion_matrix(cnf_matrix, classes=class_names,\n",
    "                      title='Confusion matrix, without normalization')\n",
    "\n",
    "# Plot normalized confusion matrix\n",
    "plt.figure()\n",
    "plot_confusion_matrix(cnf_matrix, classes=class_names, normalize=True,\n",
    "                      title='Normalized confusion matrix')\n",
    "\n",
    "plt.show()"
   ]
  },
  {
   "cell_type": "code",
   "execution_count": null,
   "metadata": {},
   "outputs": [],
   "source": [
    "\n",
    "class_names[classifier.predict([[4.0, 2.0,1.0, 0.1]])][0]"
   ]
  },
  {
   "cell_type": "code",
   "execution_count": null,
   "metadata": {},
   "outputs": [],
   "source": [
    "class_names[classifier.predict([[7.9, 4.4,6.9, 2.5]])][0]"
   ]
  },
  {
   "cell_type": "code",
   "execution_count": null,
   "metadata": {},
   "outputs": [],
   "source": [
    "class_names[classifier.predict([[5.84, 3.05,3.76, 1.2]])]"
   ]
  },
  {
   "cell_type": "code",
   "execution_count": null,
   "metadata": {},
   "outputs": [],
   "source": [
    "class_names[classifier.predict([[5.84, 3.05,3.76, 1.2]])]"
   ]
  },
  {
   "cell_type": "code",
   "execution_count": null,
   "metadata": {},
   "outputs": [],
   "source": [
    "from clipper_admin import ClipperConnection, DockerContainerManager"
   ]
  },
  {
   "cell_type": "code",
   "execution_count": null,
   "metadata": {},
   "outputs": [],
   "source": [
    "\n",
    "clipper_conn = ClipperConnection(DockerContainerManager())"
   ]
  },
  {
   "cell_type": "code",
   "execution_count": null,
   "metadata": {},
   "outputs": [],
   "source": [
    "try:\n",
    "    clipper_conn.start_clipper()\n",
    "except:\n",
    "    print(\"Clipper already running\")\n",
    "    clipper_conn.connect()"
   ]
  },
  {
   "cell_type": "code",
   "execution_count": null,
   "metadata": {},
   "outputs": [],
   "source": [
    "# Register an application called \"hello_world\". This will create\n",
    "# a prediction REST endpoint at http://localhost:1337/hello_world/predict\n",
    "clipper_conn.register_application(name=\"hello-world\", \n",
    "                                  input_type=\"doubles\", \n",
    "                                  default_output=\"-1.0\", \n",
    "                                  slo_micros=100000)"
   ]
  },
  {
   "cell_type": "code",
   "execution_count": null,
   "metadata": {},
   "outputs": [],
   "source": [
    "# Register an application called \"hello_world\". This will create\n",
    "# a prediction REST endpoint at http://localhost:1337/hello_world/predict\n",
    "\n",
    "clipper_conn.register_application(name=\"iris\", \n",
    "                                  input_type=\"doubles\", \n",
    "                                  default_output=\"-1.0\", \n",
    "                                  slo_micros=1000000000)\n",
    "\n",
    "# Inspect Clipper to see the registered apps\n"
   ]
  },
  {
   "cell_type": "code",
   "execution_count": null,
   "metadata": {},
   "outputs": [],
   "source": [
    "clipper_conn.get_all_apps()"
   ]
  },
  {
   "cell_type": "code",
   "execution_count": null,
   "metadata": {},
   "outputs": [],
   "source": [
    "\n",
    "# Define a simple model that just returns the sum of each feature vector.\n",
    "# Note that the prediction function takes a list of feature vectors as\n",
    "# input and returns a list of strings.\n",
    "def feature_sum(xs):\n",
    "    return [str(sum(x)) for x in xs]"
   ]
  },
  {
   "cell_type": "code",
   "execution_count": null,
   "metadata": {},
   "outputs": [],
   "source": [
    "import sys  \n",
    "import time \n",
    "import numpy as np\n",
    "from sklearn import svm, datasets\n",
    "iris = datasets.load_iris()\n",
    "class_names = iris.target_names\n",
    "def iris_predict(xs):\n",
    "    #np.savetxt(sys.stdout.buffer, xs)\n",
    "    pred = classifier.predict(xs)\n",
    "    class_n = class_names[pred]\n",
    "    ret = class_n[0]\n",
    "    #np.savetxt(sys.stdout.buffer, ret)\n",
    "    print(pred)\n",
    "    print(class_n)\n",
    "    print(ret)\n",
    "    return pred"
   ]
  },
  {
   "cell_type": "code",
   "execution_count": null,
   "metadata": {},
   "outputs": [],
   "source": [
    "from clipper_admin.deployers import python as python_deployer"
   ]
  },
  {
   "cell_type": "code",
   "execution_count": null,
   "metadata": {},
   "outputs": [],
   "source": [
    "\n",
    "# Deploy the \"feature_sum\" function as a model. Notice that the application and model\n",
    "# must have the same input type.\n",
    "python_deployer.deploy_python_closure(clipper_conn, \n",
    "                                      name=\"sum-model\", \n",
    "                                      version=1, \n",
    "                                      input_type=\"doubles\", \n",
    "                                      func=feature_sum)\n",
    "\n"
   ]
  },
  {
   "cell_type": "code",
   "execution_count": null,
   "metadata": {},
   "outputs": [],
   "source": [
    "\n",
    "# Deploy the \"iris_predict\" function as a model. Notice that the application and model\n",
    "# must have the same input type.\n",
    "python_deployer.deploy_python_closure(clipper_conn, \n",
    "                                      name=\"iris-model\", \n",
    "                                      version=1, \n",
    "                                      input_type=\"doubles\", \n",
    "                                      func=iris_predict,\n",
    "                                      pkgs_to_install=['numpy','scipy', 'scikit-learn'])"
   ]
  },
  {
   "cell_type": "code",
   "execution_count": null,
   "metadata": {},
   "outputs": [],
   "source": [
    "# Tell Clipper to route requests for the \"hello-world\" application to the \"sum-model\"\n",
    "clipper_conn.link_model_to_app(app_name=\"hello-world\", model_name=\"sum-model\")\n",
    "\n"
   ]
  },
  {
   "cell_type": "code",
   "execution_count": null,
   "metadata": {},
   "outputs": [],
   "source": [
    "# Tell Clipper to route requests for the \"iris\" application to the \"iris-model\"\n",
    "clipper_conn.link_model_to_app(app_name=\"iris\", model_name=\"iris-model\")\n",
    "\n",
    "# Your iris application is now ready to serve predictions"
   ]
  },
  {
   "cell_type": "code",
   "execution_count": null,
   "metadata": {},
   "outputs": [],
   "source": [
    "clipper_conn.get_clipper_logs()"
   ]
  },
  {
   "cell_type": "code",
   "execution_count": null,
   "metadata": {},
   "outputs": [],
   "source": [
    "clipper_conn.cm.get_num_replicas(name=\"iris-model\", version='1')"
   ]
  },
  {
   "cell_type": "code",
   "execution_count": null,
   "metadata": {},
   "outputs": [],
   "source": [
    "  clipper_conn.get_linked_models(app_name=\"iris\")\n"
   ]
  },
  {
   "cell_type": "code",
   "execution_count": null,
   "metadata": {},
   "outputs": [],
   "source": [
    "  clipper_conn.cm.get_num_replicas(name=\"iris-model\", version=\"8\")"
   ]
  },
  {
   "cell_type": "code",
   "execution_count": null,
   "metadata": {},
   "outputs": [],
   "source": [
    "q1 = [4.3, 2.0,1.0, 0.1]\n",
    "q2 = [5.84, 3.05,3.76, 1.2]\n",
    "q3 = [7.9, 4.4, 6.9, 2.5]"
   ]
  },
  {
   "cell_type": "code",
   "execution_count": null,
   "metadata": {},
   "outputs": [],
   "source": [
    "import requests, json, numpy as np\n",
    "headers = {\"Content-type\": \"application/json\"}"
   ]
  },
  {
   "cell_type": "code",
   "execution_count": null,
   "metadata": {},
   "outputs": [],
   "source": [
    "requests.post(\"http://localhost:1337/hello-world/predict\", \n",
    "              headers=headers, \n",
    "              data=json.dumps({\"input\": q1})).json()"
   ]
  },
  {
   "cell_type": "code",
   "execution_count": null,
   "metadata": {},
   "outputs": [],
   "source": [
    "\n",
    "res = requests.post(\"http://localhost:1337/iris/predict\", \n",
    "              headers=headers, \n",
    "              data=json.dumps({\"input\": q2})).json()\n",
    "print(res)\n",
    "[class_names[res['output']]]"
   ]
  },
  {
   "cell_type": "code",
   "execution_count": null,
   "metadata": {},
   "outputs": [],
   "source": [
    "res =requests.post(\"http://localhost:1337/iris/predict\", \n",
    "              headers=headers, \n",
    "              data=json.dumps({\"input\": q3})).json()\n",
    "print(res)\n",
    "[class_names[res['output']]]"
   ]
  },
  {
   "cell_type": "code",
   "execution_count": null,
   "metadata": {},
   "outputs": [],
   "source": [
    "\n",
    "# you would change the hostname here if you were on a server or AWS :)\n",
    "res =requests.post(\"http://127.0.0.1:1337/iris/predict\", \n",
    "              headers=headers, \n",
    "              data=json.dumps({\"input\": q3})).json()\n",
    "print(res)\n",
    "[class_names[res['output']]]"
   ]
  },
  {
   "cell_type": "code",
   "execution_count": null,
   "metadata": {},
   "outputs": [],
   "source": [
    "res =requests.post(\"http://localhost:1337/iris/predict\", \n",
    "              headers=headers, \n",
    "              data=json.dumps({\"input\": q2})).json()\n",
    "print(res)\n",
    "[class_names[res['output']]]"
   ]
  },
  {
   "cell_type": "code",
   "execution_count": null,
   "metadata": {},
   "outputs": [],
   "source": [
    "clipper_conn.stop_all()"
   ]
  },
  {
   "cell_type": "code",
   "execution_count": null,
   "metadata": {},
   "outputs": [],
   "source": [
    "clipper_conn.inspect_instance()\n"
   ]
  },
  {
   "cell_type": "code",
   "execution_count": null,
   "metadata": {},
   "outputs": [],
   "source": []
  }
 ],
 "metadata": {
  "kernelspec": {
   "display_name": "Python 3",
   "language": "python",
   "name": "python3"
  },
  "language_info": {
   "codemirror_mode": {
    "name": "ipython",
    "version": 3
   },
   "file_extension": ".py",
   "mimetype": "text/x-python",
   "name": "python",
   "nbconvert_exporter": "python",
   "pygments_lexer": "ipython3",
   "version": "3.5.5"
  }
 },
 "nbformat": 4,
 "nbformat_minor": 2
}
