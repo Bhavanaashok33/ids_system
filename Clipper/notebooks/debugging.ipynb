{
 "cells": [
  {
   "cell_type": "code",
   "execution_count": 2,
   "metadata": {},
   "outputs": [],
   "source": [
    "import logging, xgboost as xgb, numpy as np\n",
    "import pickle\n",
    "from numpy import array\n",
    "import numpy as np\n",
    "from clipper_admin import ClipperConnection, DockerContainerManager\n",
    "clipper_conn = ClipperConnection(DockerContainerManager())"
   ]
  },
  {
   "cell_type": "code",
   "execution_count": 3,
   "metadata": {},
   "outputs": [
    {
     "name": "stderr",
     "output_type": "stream",
     "text": [
      "18-11-16:18:17:42 WARNING  [clipper_admin.py:141] [default-cluster] Error starting Clipper: Cluster default-cluster cannot be started because it already exists. Please use ClipperConnection.connect() to connect to it.\n",
      "18-11-16:18:17:42 INFO     [clipper_admin.py:151] [default-cluster] Successfully connected to Clipper cluster at localhost:1337\n"
     ]
    },
    {
     "name": "stdout",
     "output_type": "stream",
     "text": [
      "Clipper already running\n"
     ]
    }
   ],
   "source": [
    "try:\n",
    "    clipper_conn.start_clipper()\n",
    "except:\n",
    "    print(\"Clipper already running\")\n",
    "    clipper_conn.connect()"
   ]
  },
  {
   "cell_type": "code",
   "execution_count": 16,
   "metadata": {},
   "outputs": [
    {
     "data": {
      "text/plain": [
       "['simple-model']"
      ]
     },
     "execution_count": 16,
     "metadata": {},
     "output_type": "execute_result"
    }
   ],
   "source": [
    "clipper_conn.get_linked_models(app_name=\"simple_model\")\n"
   ]
  },
  {
   "cell_type": "code",
   "execution_count": 17,
   "metadata": {},
   "outputs": [
    {
     "name": "stderr",
     "output_type": "stream",
     "text": [
      "18-11-16:18:42:08 ERROR    [clipper_admin.py:272] [default-cluster] Received error status code: 400 and message: The model with name 'simple-model' is already linked to 'simple_model'\n"
     ]
    },
    {
     "ename": "ClipperException",
     "evalue": "Received error status code: 400 and message: The model with name 'simple-model' is already linked to 'simple_model'",
     "output_type": "error",
     "traceback": [
      "\u001b[0;31m---------------------------------------------------------------------------\u001b[0m",
      "\u001b[0;31mClipperException\u001b[0m                          Traceback (most recent call last)",
      "\u001b[0;32m<ipython-input-17-97d8680df066>\u001b[0m in \u001b[0;36m<module>\u001b[0;34m()\u001b[0m\n\u001b[0;32m----> 1\u001b[0;31m \u001b[0mclipper_conn\u001b[0m\u001b[0;34m.\u001b[0m\u001b[0mlink_model_to_app\u001b[0m\u001b[0;34m(\u001b[0m\u001b[0mapp_name\u001b[0m\u001b[0;34m=\u001b[0m\u001b[0;34m\"simple_model\"\u001b[0m\u001b[0;34m,\u001b[0m \u001b[0mmodel_name\u001b[0m\u001b[0;34m=\u001b[0m\u001b[0;34m\"simple-model\"\u001b[0m\u001b[0;34m)\u001b[0m\u001b[0;34m\u001b[0m\u001b[0m\n\u001b[0m",
      "\u001b[0;32m~/Desktop/clipper/clipper_admin/clipper_admin/clipper_admin.py\u001b[0m in \u001b[0;36mlink_model_to_app\u001b[0;34m(self, app_name, model_name)\u001b[0m\n\u001b[1;32m    271\u001b[0m                 code=r.status_code, msg=r.text)\n\u001b[1;32m    272\u001b[0m             \u001b[0mself\u001b[0m\u001b[0;34m.\u001b[0m\u001b[0mlogger\u001b[0m\u001b[0;34m.\u001b[0m\u001b[0merror\u001b[0m\u001b[0;34m(\u001b[0m\u001b[0mmsg\u001b[0m\u001b[0;34m)\u001b[0m\u001b[0;34m\u001b[0m\u001b[0m\n\u001b[0;32m--> 273\u001b[0;31m             \u001b[0;32mraise\u001b[0m \u001b[0mClipperException\u001b[0m\u001b[0;34m(\u001b[0m\u001b[0mmsg\u001b[0m\u001b[0;34m)\u001b[0m\u001b[0;34m\u001b[0m\u001b[0m\n\u001b[0m\u001b[1;32m    274\u001b[0m         \u001b[0;32melse\u001b[0m\u001b[0;34m:\u001b[0m\u001b[0;34m\u001b[0m\u001b[0m\n\u001b[1;32m    275\u001b[0m             self.logger.info(\n",
      "\u001b[0;31mClipperException\u001b[0m: Received error status code: 400 and message: The model with name 'simple-model' is already linked to 'simple_model'"
     ]
    }
   ],
   "source": [
    "clipper_conn.link_model_to_app(app_name=\"simple_model\", model_name=\"simple-model\")\n"
   ]
  },
  {
   "cell_type": "code",
   "execution_count": 18,
   "metadata": {},
   "outputs": [
    {
     "data": {
      "text/plain": [
       "1"
      ]
     },
     "execution_count": 18,
     "metadata": {},
     "output_type": "execute_result"
    }
   ],
   "source": [
    "clipper_conn.cm.get_num_replicas(name=\"simple-model\", version=\"6\")"
   ]
  },
  {
   "cell_type": "code",
   "execution_count": 10,
   "metadata": {},
   "outputs": [
    {
     "name": "stderr",
     "output_type": "stream",
     "text": [
      "18-11-16:18:23:54 INFO     [docker_container_manager.py:395] [default-cluster] Created logging directory: /home/sdn-nfv/Desktop/ids_system/Clipper/notebooks/clipper_logs\n"
     ]
    },
    {
     "data": {
      "text/plain": [
       "['/home/sdn-nfv/Desktop/ids_system/Clipper/notebooks/clipper_logs/image_sha256:c8ecf7c719:container_fd948cd1fb.log',\n",
       " '/home/sdn-nfv/Desktop/ids_system/Clipper/notebooks/clipper_logs/image_sha256:c29b40eb63:container_e552c0ef4a.log',\n",
       " '/home/sdn-nfv/Desktop/ids_system/Clipper/notebooks/clipper_logs/image_sha256:e9f3003fe4:container_30c2581784.log',\n",
       " '/home/sdn-nfv/Desktop/ids_system/Clipper/notebooks/clipper_logs/image_sha256:52b6407ef3:container_a532294036.log',\n",
       " '/home/sdn-nfv/Desktop/ids_system/Clipper/notebooks/clipper_logs/image_sha256:28d359e5d4:container_04a5111a58.log']"
      ]
     },
     "execution_count": 10,
     "metadata": {},
     "output_type": "execute_result"
    }
   ],
   "source": [
    "clipper_conn.get_clipper_logs()"
   ]
  },
  {
   "cell_type": "code",
   "execution_count": 11,
   "metadata": {},
   "outputs": [
    {
     "data": {
      "text/plain": [
       "{'counters': [{'internal:prediction_cache_lookups': {'count': '828'}},\n",
       "  {'internal:aggregate_num_predictions': {'count': '828'}},\n",
       "  {'app:simple_model:num_predictions': {'count': '828'}},\n",
       "  {'model:simple-model:6:num_predictions': {'count': '25'}}],\n",
       " 'histograms': [{'internal:rpc_request_queueing_delay': {'max': '6266',\n",
       "    'mean': '1181.45454545454545459',\n",
       "    'min': '200',\n",
       "    'p50': '802',\n",
       "    'p95': '6266',\n",
       "    'p99': '6266',\n",
       "    'size': '11',\n",
       "    'std_dev': '1634.99193012389144752',\n",
       "    'unit': 'microseconds'}},\n",
       "  {'app:simple_model:prediction_latency': {'max': '99099',\n",
       "    'mean': '4112.72705314009661848',\n",
       "    'min': '49',\n",
       "    'p50': '76',\n",
       "    'p95': '9562.3499999998673502',\n",
       "    'p99': '99067.7100000000000364',\n",
       "    'size': '828',\n",
       "    'std_dev': '19064.3534235934204748',\n",
       "    'unit': 'microseconds'}},\n",
       "  {'model:simple-model:6:prediction_latency': {'max': '84680',\n",
       "    'mean': '23982.2799999999999994',\n",
       "    'min': '10804',\n",
       "    'p50': '19712',\n",
       "    'p95': '84680',\n",
       "    'p99': '84680',\n",
       "    'size': '25',\n",
       "    'std_dev': '18839.8687543623827665',\n",
       "    'unit': 'microseconds'}},\n",
       "  {'model:simple-model:6:batch_size': {'max': '3',\n",
       "    'mean': '2.5',\n",
       "    'min': '2',\n",
       "    'p50': '2.5',\n",
       "    'p95': '3',\n",
       "    'p99': '3',\n",
       "    'size': '10',\n",
       "    'std_dev': '0.5',\n",
       "    'unit': 'queries'}}],\n",
       " 'meters': [{'internal:aggregate_model_throughput': {'rate': '0.035147838776194318',\n",
       "    'rate_15min': '0.014515847480702672',\n",
       "    'rate_1min': '2.4682118308690297e-05',\n",
       "    'rate_5min': '0.011892290877963771',\n",
       "    'unit': 'events per second'}},\n",
       "  {'app:simple_model:prediction_throughput': {'rate': '1.2075619330842184',\n",
       "    'rate_15min': '0.68454615568119437',\n",
       "    'rate_1min': '1.5321855401652336',\n",
       "    'rate_5min': '1.2550871842742433',\n",
       "    'unit': 'events per second'}},\n",
       "  {'model:simple-model:6:prediction_throughput': {'rate': '0.038302873346119468',\n",
       "    'rate_15min': '0.014541735301404929',\n",
       "    'rate_1min': '2.5372453174786549e-05',\n",
       "    'rate_5min': '0.011956322315875005',\n",
       "    'unit': 'events per second'}}],\n",
       " 'ratio_counters': [{'internal:prediction_cache_hit_ratio': {'ratio': '0'}},\n",
       "  {'app:simple_model:default_prediction_ratio': {'ratio': '0.98792270531400961'}},\n",
       "  {'model:simple-model:6:cache_hit_ratio': {'ratio': '0'}}]}"
      ]
     },
     "execution_count": 11,
     "metadata": {},
     "output_type": "execute_result"
    }
   ],
   "source": [
    "clipper_conn.inspect_instance()"
   ]
  },
  {
   "cell_type": "code",
   "execution_count": 15,
   "metadata": {},
   "outputs": [
    {
     "ename": "AttributeError",
     "evalue": "'ClipperConnection' object has no attribute 'get_logs'",
     "output_type": "error",
     "traceback": [
      "\u001b[0;31m---------------------------------------------------------------------------\u001b[0m",
      "\u001b[0;31mAttributeError\u001b[0m                            Traceback (most recent call last)",
      "\u001b[0;32m<ipython-input-15-740d23339d16>\u001b[0m in \u001b[0;36m<module>\u001b[0;34m()\u001b[0m\n\u001b[0;32m----> 1\u001b[0;31m \u001b[0mclipper_conn\u001b[0m\u001b[0;34m.\u001b[0m\u001b[0mget_logs\u001b[0m\u001b[0;34m(\u001b[0m\u001b[0;34m)\u001b[0m\u001b[0;34m\u001b[0m\u001b[0m\n\u001b[0m",
      "\u001b[0;31mAttributeError\u001b[0m: 'ClipperConnection' object has no attribute 'get_logs'"
     ]
    }
   ],
   "source": [
    "clipper_conn.get_logs()"
   ]
  },
  {
   "cell_type": "code",
   "execution_count": 13,
   "metadata": {},
   "outputs": [
    {
     "name": "stderr",
     "output_type": "stream",
     "text": [
      "18-11-16:18:34:05 INFO     [clipper_admin.py:1192] [default-cluster] Stopped all containers for these models and versions:\n",
      "{'simple-model': ['6']}\n"
     ]
    }
   ],
   "source": [
    "clipper_conn.stop_models(\"simple-model\")"
   ]
  },
  {
   "cell_type": "code",
   "execution_count": 14,
   "metadata": {},
   "outputs": [
    {
     "name": "stderr",
     "output_type": "stream",
     "text": [
      "18-11-16:18:35:21 INFO     [clipper_admin.py:1278] [default-cluster] Stopped all Clipper cluster and all model containers\n"
     ]
    }
   ],
   "source": [
    "clipper_conn.stop_all()"
   ]
  },
  {
   "cell_type": "code",
   "execution_count": null,
   "metadata": {},
   "outputs": [],
   "source": []
  }
 ],
 "metadata": {
  "kernelspec": {
   "display_name": "Python 3",
   "language": "python",
   "name": "python3"
  },
  "language_info": {
   "codemirror_mode": {
    "name": "ipython",
    "version": 3
   },
   "file_extension": ".py",
   "mimetype": "text/x-python",
   "name": "python",
   "nbconvert_exporter": "python",
   "pygments_lexer": "ipython3",
   "version": "3.5.5"
  }
 },
 "nbformat": 4,
 "nbformat_minor": 2
}
