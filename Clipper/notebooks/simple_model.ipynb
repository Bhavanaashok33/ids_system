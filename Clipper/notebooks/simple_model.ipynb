{
 "cells": [
  {
   "cell_type": "code",
   "execution_count": 18,
   "metadata": {},
   "outputs": [],
   "source": [
    "import logging, xgboost as xgb, numpy as np\n",
    "from clipper_admin import ClipperConnection, DockerContainerManager\n",
    "import pickle\n",
    "from numpy import array\n",
    "import numpy as np\n",
    "from sklearn.ensemble import RandomForestClassifier\n"
   ]
  },
  {
   "cell_type": "code",
   "execution_count": 19,
   "metadata": {},
   "outputs": [],
   "source": [
    "#importint the libraries\n",
    "import numpy as np\n",
    "import pandas as pd\n",
    "import csv\n",
    "import os.path\n",
    "\n",
    "\n",
    "from sklearn.ensemble import RandomForestClassifier\n",
    "\n",
    "\n"
   ]
  },
  {
   "cell_type": "code",
   "execution_count": 20,
   "metadata": {},
   "outputs": [
    {
     "data": {
      "text/plain": [
       "C      int64\n",
       "D      int64\n",
       "E      int64\n",
       "F    float64\n",
       "G    float64\n",
       "H    float64\n",
       "I      int64\n",
       "J      int64\n",
       "K    float64\n",
       "L    float64\n",
       "M    float64\n",
       "P      int64\n",
       "dtype: object"
      ]
     },
     "execution_count": 20,
     "metadata": {},
     "output_type": "execute_result"
    }
   ],
   "source": [
    "dataset = pd.read_csv('input.csv', sep=\"\\t\", header=None)\n",
    "dataset.columns = [\"A\",\"B\",\"C\",\"D\",\"E\",\"F\",\"G\",\"H\",\"I\",\"J\",\"K\",\"L\",\"M\",\"N\",\"O\",\"P\",\"Q\",\"R\",\"S\",\"T\",\"U\",\"V\",\"W\",\"X\"]\n",
    "X= dataset[['C','D','E','F','G','H','I','J','K','L','M',\"P\"]]\n",
    "df=pd.DataFrame(X)\n",
    "Y=dataset['R']\n",
    "df.dtypes"
   ]
  },
  {
   "cell_type": "code",
   "execution_count": 21,
   "metadata": {},
   "outputs": [],
   "source": [
    "from sklearn.model_selection  import train_test_split\n",
    "X_train, X_test, Y_train, Y_test = train_test_split(df, Y, test_size =0.3, random_state=0)"
   ]
  },
  {
   "cell_type": "code",
   "execution_count": 22,
   "metadata": {},
   "outputs": [
    {
     "data": {
      "text/plain": [
       "RandomForestClassifier(bootstrap=True, class_weight=None, criterion='gini',\n",
       "            max_depth=2, max_features='auto', max_leaf_nodes=None,\n",
       "            min_impurity_decrease=0.0, min_impurity_split=None,\n",
       "            min_samples_leaf=1, min_samples_split=2,\n",
       "            min_weight_fraction_leaf=0.0, n_estimators=100, n_jobs=None,\n",
       "            oob_score=False, random_state=0, verbose=0, warm_start=False)"
      ]
     },
     "execution_count": 22,
     "metadata": {},
     "output_type": "execute_result"
    }
   ],
   "source": [
    "clf = RandomForestClassifier(n_estimators=100, max_depth=2,random_state=0 )          \n",
    "clf.fit(X_train, Y_train)"
   ]
  },
  {
   "cell_type": "code",
   "execution_count": 23,
   "metadata": {},
   "outputs": [],
   "source": [
    "with open('model.pickle', 'wb') as handle:\n",
    "    pickle.dump(clf, handle, protocol=pickle.HIGHEST_PROTOCOL)"
   ]
  },
  {
   "cell_type": "code",
   "execution_count": 24,
   "metadata": {},
   "outputs": [],
   "source": [
    "clipper_conn = ClipperConnection(DockerContainerManager())"
   ]
  },
  {
   "cell_type": "code",
   "execution_count": 25,
   "metadata": {},
   "outputs": [],
   "source": [
    "FEATURE_SET=\"uid,history,connection_state_description,src_packets,src_bytes,dst_bytes,dIp,sIp,duration,dst_packets,sP,dP\"\n",
    "FEATURE_SET = FEATURE_SET.split(\",\")"
   ]
  },
  {
   "cell_type": "code",
   "execution_count": 26,
   "metadata": {},
   "outputs": [
    {
     "name": "stderr",
     "output_type": "stream",
     "text": [
      "18-11-12:23:27:00 INFO     [docker_container_manager.py:151] [default-cluster] Starting managed Redis instance in Docker\n",
      "18-11-12:23:30:37 INFO     [docker_container_manager.py:229] [default-cluster] Metric Configuration Saved at /tmp/tmpg1f1kbt8.yml\n",
      "18-11-12:23:31:30 INFO     [clipper_admin.py:138] [default-cluster] Clipper is running\n"
     ]
    }
   ],
   "source": [
    "try:\n",
    "    clipper_conn.start_clipper()\n",
    "except:\n",
    "    print(\"Clipper already running\")\n",
    "    clipper_conn.connect()"
   ]
  },
  {
   "cell_type": "code",
   "execution_count": 28,
   "metadata": {},
   "outputs": [
    {
     "name": "stderr",
     "output_type": "stream",
     "text": [
      "18-11-12:23:34:02 INFO     [clipper_admin.py:215] [default-cluster] Application simple_model was successfully registered\n"
     ]
    }
   ],
   "source": [
    "# We will register it to deploy a simple model.\n",
    "clipper_conn.register_application(name='simple_model', \n",
    "                                  input_type='floats', \n",
    "                                  default_output=\"-1.0\", \n",
    "                                  slo_micros=100000)"
   ]
  },
  {
   "cell_type": "code",
   "execution_count": 29,
   "metadata": {},
   "outputs": [],
   "source": [
    "with open('model.pickle', 'rb') as handle:\n",
    "    model = pickle.load(handle)"
   ]
  },
  {
   "cell_type": "code",
   "execution_count": 42,
   "metadata": {},
   "outputs": [],
   "source": [
    "from sklearn.ensemble import RandomForestClassifier\n",
    "def predict(xs):\n",
    "    print(\"xs: \",xs)\n",
    "    res = model.predict(xs)\n",
    "    print(\"res: \", res)\n",
    "    return res\n",
    "    \n"
   ]
  },
  {
   "cell_type": "code",
   "execution_count": 43,
   "metadata": {},
   "outputs": [
    {
     "name": "stderr",
     "output_type": "stream",
     "text": [
      "18-11-12:23:51:22 INFO     [deployer_utils.py:41] Saving function to /tmp/tmplxv8djckclipper\n",
      "18-11-12:23:51:22 INFO     [deployer_utils.py:51] Serialized and supplied predict function\n",
      "18-11-12:23:51:22 INFO     [python.py:192] Python closure saved\n",
      "18-11-12:23:51:22 INFO     [python.py:202] Using Python 3.5 base image\n",
      "18-11-12:23:51:22 INFO     [clipper_admin.py:467] [default-cluster] Building model Docker image with model data from /tmp/tmplxv8djckclipper\n",
      "18-11-12:23:51:25 INFO     [clipper_admin.py:472] [default-cluster] Step 1/3 : FROM clipper/python35-closure-container:develop\n",
      "18-11-12:23:51:25 INFO     [clipper_admin.py:472] [default-cluster]  ---> f7d5f86ed257\n",
      "18-11-12:23:51:25 INFO     [clipper_admin.py:472] [default-cluster] Step 2/3 : RUN apt-get -y install build-essential && pip install sklearn\n",
      "18-11-12:23:51:25 INFO     [clipper_admin.py:472] [default-cluster]  ---> Using cache\n",
      "18-11-12:23:51:25 INFO     [clipper_admin.py:472] [default-cluster]  ---> bd9bfc25451e\n",
      "18-11-12:23:51:25 INFO     [clipper_admin.py:472] [default-cluster] Step 3/3 : COPY /tmp/tmplxv8djckclipper /model/\n",
      "18-11-12:23:51:25 INFO     [clipper_admin.py:472] [default-cluster]  ---> 82a180021f81\n",
      "18-11-12:23:51:25 INFO     [clipper_admin.py:472] [default-cluster] Successfully built 82a180021f81\n",
      "18-11-12:23:51:25 INFO     [clipper_admin.py:472] [default-cluster] Successfully tagged default-cluster-simple-model:2\n",
      "18-11-12:23:51:25 INFO     [clipper_admin.py:474] [default-cluster] Pushing model Docker image to default-cluster-simple-model:2\n",
      "18-11-12:23:51:26 INFO     [docker_container_manager.py:353] [default-cluster] Found 0 replicas for simple-model:2. Adding 1\n",
      "18-11-12:23:51:35 INFO     [clipper_admin.py:651] [default-cluster] Successfully registered model simple-model:2\n",
      "18-11-12:23:51:35 INFO     [clipper_admin.py:569] [default-cluster] Done deploying model simple-model:2.\n"
     ]
    }
   ],
   "source": [
    "from clipper_admin.deployers import python as python_deployer\n",
    "# We specify which packages to install in the pkgs_to_install arg.\n",
    "# For example, if we wanted to install xgboost and psycopg2, we would use\n",
    "# pkgs_to_install = ['xgboost', 'psycopg2']\n",
    "python_deployer.deploy_python_closure(clipper_conn, \n",
    "                                      name='simple-model', \n",
    "                                      version=2,\n",
    "                                      input_type=\"floats\", \n",
    "                                      pkgs_to_install=['sklearn'],\n",
    "                                      func=predict)\n"
   ]
  },
  {
   "cell_type": "code",
   "execution_count": 44,
   "metadata": {},
   "outputs": [
    {
     "name": "stderr",
     "output_type": "stream",
     "text": [
      "18-11-12:23:51:39 ERROR    [clipper_admin.py:272] [default-cluster] Received error status code: 400 and message: The model with name 'simple-model' is already linked to 'simple_model'\n"
     ]
    },
    {
     "ename": "ClipperException",
     "evalue": "Received error status code: 400 and message: The model with name 'simple-model' is already linked to 'simple_model'",
     "output_type": "error",
     "traceback": [
      "\u001b[0;31m---------------------------------------------------------------------------\u001b[0m",
      "\u001b[0;31mClipperException\u001b[0m                          Traceback (most recent call last)",
      "\u001b[0;32m<ipython-input-44-19518c942956>\u001b[0m in \u001b[0;36m<module>\u001b[0;34m()\u001b[0m\n\u001b[0;32m----> 1\u001b[0;31m \u001b[0mclipper_conn\u001b[0m\u001b[0;34m.\u001b[0m\u001b[0mlink_model_to_app\u001b[0m\u001b[0;34m(\u001b[0m\u001b[0;34m'simple_model'\u001b[0m\u001b[0;34m,\u001b[0m \u001b[0;34m'simple-model'\u001b[0m\u001b[0;34m)\u001b[0m\u001b[0;34m\u001b[0m\u001b[0m\n\u001b[0m",
      "\u001b[0;32m~/Desktop/clipper/clipper_admin/clipper_admin/clipper_admin.py\u001b[0m in \u001b[0;36mlink_model_to_app\u001b[0;34m(self, app_name, model_name)\u001b[0m\n\u001b[1;32m    271\u001b[0m                 code=r.status_code, msg=r.text)\n\u001b[1;32m    272\u001b[0m             \u001b[0mself\u001b[0m\u001b[0;34m.\u001b[0m\u001b[0mlogger\u001b[0m\u001b[0;34m.\u001b[0m\u001b[0merror\u001b[0m\u001b[0;34m(\u001b[0m\u001b[0mmsg\u001b[0m\u001b[0;34m)\u001b[0m\u001b[0;34m\u001b[0m\u001b[0m\n\u001b[0;32m--> 273\u001b[0;31m             \u001b[0;32mraise\u001b[0m \u001b[0mClipperException\u001b[0m\u001b[0;34m(\u001b[0m\u001b[0mmsg\u001b[0m\u001b[0;34m)\u001b[0m\u001b[0;34m\u001b[0m\u001b[0m\n\u001b[0m\u001b[1;32m    274\u001b[0m         \u001b[0;32melse\u001b[0m\u001b[0;34m:\u001b[0m\u001b[0;34m\u001b[0m\u001b[0m\n\u001b[1;32m    275\u001b[0m             self.logger.info(\n",
      "\u001b[0;31mClipperException\u001b[0m: Received error status code: 400 and message: The model with name 'simple-model' is already linked to 'simple_model'"
     ]
    }
   ],
   "source": [
    "clipper_conn.link_model_to_app('simple_model', 'simple-model')\n"
   ]
  },
  {
   "cell_type": "code",
   "execution_count": 47,
   "metadata": {},
   "outputs": [
    {
     "name": "stdout",
     "output_type": "stream",
     "text": [
      "Prediction Returned: {'output': 1, 'default': False, 'query_id': 3}\n"
     ]
    }
   ],
   "source": [
    "import requests, json\n",
    "# Get Address\n",
    "addr = clipper_conn.get_query_addr()\n",
    "# Post Query\n",
    "\n",
    "data = [118586235192977525301275,12459745583622286062,158036878717837878020514440491555919575,2,0,0,245734465685311455698562072742206145221,258155230841023532689246593572124345694,1.1e-05,0,37593,39596]\n",
    "\n",
    "data=np.array(data,float)\n",
    "response = requests.post(\n",
    "     \"http://%s/%s/predict\" % (addr, 'simple_model'),\n",
    "     headers={\"Content-type\": \"application/json\"},\n",
    "     data=json.dumps({\n",
    "         'input': data.tolist()\n",
    "     }))\n",
    "result = response.json()\n",
    "if response.status_code == requests.codes.ok and result[\"default\"]:\n",
    "    print('A default prediction was returned.')\n",
    "elif response.status_code != requests.codes.ok:\n",
    "    print(result)\n",
    "    raise BenchmarkException(response.text)\n",
    "else:\n",
    "    print('Prediction Returned:', result)\n"
   ]
  },
  {
   "cell_type": "code",
   "execution_count": 48,
   "metadata": {},
   "outputs": [
    {
     "name": "stderr",
     "output_type": "stream",
     "text": [
      "18-11-12:23:57:12 INFO     [clipper_admin.py:1278] [default-cluster] Stopped all Clipper cluster and all model containers\n"
     ]
    }
   ],
   "source": [
    "clipper_conn.stop_all()"
   ]
  },
  {
   "cell_type": "code",
   "execution_count": null,
   "metadata": {},
   "outputs": [],
   "source": []
  }
 ],
 "metadata": {
  "kernelspec": {
   "display_name": "Python 3",
   "language": "python",
   "name": "python3"
  },
  "language_info": {
   "codemirror_mode": {
    "name": "ipython",
    "version": 3
   },
   "file_extension": ".py",
   "mimetype": "text/x-python",
   "name": "python",
   "nbconvert_exporter": "python",
   "pygments_lexer": "ipython3",
   "version": "3.5.5"
  }
 },
 "nbformat": 4,
 "nbformat_minor": 2
}
