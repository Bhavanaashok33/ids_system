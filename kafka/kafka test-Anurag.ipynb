{
 "cells": [
  {
   "cell_type": "code",
   "execution_count": null,
   "metadata": {},
   "outputs": [],
   "source": [
    "from kafka import KafkaConsumer,TopicPartition\n",
    "import json\n",
    "import ast\n",
    "from kafka import KafkaProducer\n",
    "from kafka.errors import KafkaError\n",
    "# docker exec -u 0 kafka_kafka-1_1 kafka-consumer-groups --describe --group bro_conn_log --bootstrap-server localhost:19092"
   ]
  },
  {
   "cell_type": "code",
   "execution_count": null,
   "metadata": {},
   "outputs": [],
   "source": [
    "consumer = KafkaConsumer(\n",
    "    'bro_conn',\n",
    "    bootstrap_servers='localhost:19092',\n",
    "    client_id=\"kafka_consumer_anurag_test_1\",\n",
    "    auto_offset_reset='earliest',\n",
    "    enable_auto_commit=True,\n",
    "    auto_commit_interval_ms=1,\n",
    "    group_id='bro_conn_log')\n",
    "\n",
    "producer = KafkaProducer(\n",
    "    bootstrap_servers='localhost:19092',\n",
    "    client_id=\"kafka_producer_anurag_test_1\",\n",
    "    retries =1,\n",
    "    linger_ms=5,\n",
    "    value_serializer=lambda v: json.dumps(v).encode('utf-8')\n",
    "    )"
   ]
  },
  {
   "cell_type": "code",
   "execution_count": null,
   "metadata": {},
   "outputs": [],
   "source": [
    "till = 10\n",
    "i=0\n",
    "for msg in consumer:\n",
    "    print(\"-----------------------------------------------------------------------\")\n",
    "    print(\"topic = \",msg.topic)\n",
    "    print(\"partition = \", msg.partition)\n",
    "    print(\"offset = \",msg.offset)\n",
    "    value = json.loads(msg.value.decode('utf-8'))\n",
    "    value['message'] = json.loads(value['message'])\n",
    "    for key in value.keys():\n",
    "        print(str(key),\" = \", value[key])\n",
    "    \n",
    "    print(\"------ send message to partition_1-------\")\n",
    "    producer.send('pipeline_1',value)\n",
    "    i+=1\n",
    "    if i>till:\n",
    "        break\n",
    "        \n",
    "    "
   ]
  },
  {
   "cell_type": "code",
   "execution_count": null,
   "metadata": {},
   "outputs": [],
   "source": []
  },
  {
   "cell_type": "code",
   "execution_count": null,
   "metadata": {},
   "outputs": [],
   "source": [
    "while(True):\n",
    "    msg = next(consumer)\n",
    "    topic = msg.topic\n",
    "    partition = msg.partition\n",
    "    offset = msg.offset\n",
    "    try:\n",
    "        value = json.loads(msg.value.decode('utf-8'))\n",
    "    except TypeError as e:\n",
    "        print(\"Error in msg.value convertion to json\\n\", e)\n",
    "        consumer.close()\n",
    "    try:\n",
    "        value['message'] = json.loads(value['message'])\n",
    "    except:\n",
    "        pass\n",
    "    \n",
    "    \n",
    "    \n",
    "    \n",
    "    \n",
    "    "
   ]
  },
  {
   "cell_type": "code",
   "execution_count": null,
   "metadata": {},
   "outputs": [],
   "source": [
    "consumer.unsubscribe()"
   ]
  },
  {
   "cell_type": "code",
   "execution_count": null,
   "metadata": {},
   "outputs": [],
   "source": []
  },
  {
   "cell_type": "code",
   "execution_count": null,
   "metadata": {},
   "outputs": [],
   "source": []
  }
 ],
 "metadata": {
  "kernelspec": {
   "display_name": "Python 3",
   "language": "python",
   "name": "python3"
  },
  "language_info": {
   "codemirror_mode": {
    "name": "ipython",
    "version": 3
   },
   "file_extension": ".py",
   "mimetype": "text/x-python",
   "name": "python",
   "nbconvert_exporter": "python",
   "pygments_lexer": "ipython3",
   "version": "3.5.5"
  }
 },
 "nbformat": 4,
 "nbformat_minor": 2
}
